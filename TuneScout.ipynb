{
 "cells": [
  {
   "cell_type": "code",
   "execution_count": 1,
   "metadata": {},
   "outputs": [
    {
     "name": "stdout",
     "output_type": "stream",
     "text": [
      "Requirement already satisfied: pandas in c:\\users\\devra\\anaconda3\\lib\\site-packages (1.0.1)\n",
      "Requirement already satisfied: scikit-learn in c:\\users\\devra\\anaconda3\\lib\\site-packages (0.22.1)\n",
      "Collecting spotipy\n",
      "  Downloading spotipy-2.23.0-py3-none-any.whl (29 kB)\n",
      "Requirement already satisfied: numpy>=1.13.3 in c:\\users\\devra\\anaconda3\\lib\\site-packages (from pandas) (1.18.1)\n",
      "Requirement already satisfied: pytz>=2017.2 in c:\\users\\devra\\anaconda3\\lib\\site-packages (from pandas) (2019.3)\n",
      "Requirement already satisfied: python-dateutil>=2.6.1 in c:\\users\\devra\\anaconda3\\lib\\site-packages (from pandas) (2.8.1)\n",
      "Requirement already satisfied: joblib>=0.11 in c:\\users\\devra\\anaconda3\\lib\\site-packages (from scikit-learn) (0.14.1)\n",
      "Requirement already satisfied: scipy>=0.17.0 in c:\\users\\devra\\anaconda3\\lib\\site-packages (from scikit-learn) (1.4.1)\n",
      "Collecting urllib3>=1.26.0\n",
      "  Downloading urllib3-2.0.7-py3-none-any.whl (124 kB)\n",
      "Collecting six>=1.15.0\n",
      "  Downloading six-1.16.0-py2.py3-none-any.whl (11 kB)\n",
      "Collecting requests>=2.25.0\n",
      "  Downloading requests-2.31.0-py3-none-any.whl (62 kB)\n",
      "Collecting redis>=3.5.3\n",
      "  Downloading redis-5.0.5-py3-none-any.whl (251 kB)\n",
      "Requirement already satisfied: certifi>=2017.4.17 in c:\\users\\devra\\anaconda3\\lib\\site-packages (from requests>=2.25.0->spotipy) (2019.11.28)\n",
      "Requirement already satisfied: idna<4,>=2.5 in c:\\users\\devra\\anaconda3\\lib\\site-packages (from requests>=2.25.0->spotipy) (2.8)\n",
      "Collecting charset-normalizer<4,>=2\n",
      "  Downloading charset_normalizer-3.3.2-cp37-cp37m-win_amd64.whl (98 kB)\n",
      "Collecting typing-extensions; python_version < \"3.8\"\n",
      "  Downloading typing_extensions-4.7.1-py3-none-any.whl (33 kB)\n",
      "Collecting async-timeout>=4.0.3; python_full_version < \"3.11.3\"\n",
      "  Downloading async_timeout-4.0.3-py3-none-any.whl (5.7 kB)\n",
      "Requirement already satisfied: importlib-metadata>=1.0; python_version < \"3.8\" in c:\\users\\devra\\anaconda3\\lib\\site-packages (from redis>=3.5.3->spotipy) (1.5.0)\n",
      "Requirement already satisfied: zipp>=0.5 in c:\\users\\devra\\anaconda3\\lib\\site-packages (from importlib-metadata>=1.0; python_version < \"3.8\"->redis>=3.5.3->spotipy) (2.2.0)\n",
      "Installing collected packages: urllib3, six, charset-normalizer, requests, typing-extensions, async-timeout, redis, spotipy\n",
      "  Attempting uninstall: urllib3\n",
      "    Found existing installation: urllib3 1.25.8\n",
      "    Uninstalling urllib3-1.25.8:\n",
      "      Successfully uninstalled urllib3-1.25.8\n",
      "  Attempting uninstall: six\n",
      "    Found existing installation: six 1.14.0\n",
      "    Uninstalling six-1.14.0:\n",
      "      Successfully uninstalled six-1.14.0\n",
      "  Attempting uninstall: requests\n",
      "    Found existing installation: requests 2.22.0\n",
      "    Uninstalling requests-2.22.0:\n",
      "      Successfully uninstalled requests-2.22.0\n",
      "Successfully installed async-timeout-4.0.3 charset-normalizer-3.3.2 redis-5.0.5 requests-2.31.0 six-1.16.0 spotipy-2.23.0 typing-extensions-4.7.1 urllib3-2.0.7\n",
      "Note: you may need to restart the kernel to use updated packages.\n"
     ]
    },
    {
     "name": "stderr",
     "output_type": "stream",
     "text": [
      "ERROR: pytest-astropy 0.8.0 requires pytest-cov>=2.0, which is not installed.\n",
      "ERROR: pytest-astropy 0.8.0 requires pytest-filter-subpackage>=0.1, which is not installed.\n",
      "ERROR: astroid 2.3.3 requires typed-ast<1.5,>=1.4.0; implementation_name == \"cpython\" and python_version < \"3.8\", which is not installed.\n"
     ]
    }
   ],
   "source": [
    "# Spotify API\n",
    "pip install pandas scikit-learn spotipy\n"
   ]
  },
  {
   "cell_type": "code",
   "execution_count": 58,
   "metadata": {},
   "outputs": [],
   "source": [
    "import spotipy\n",
    "from spotipy.oauth2 import SpotifyClientCredentials\n",
    "import pandas as pd\n",
    "\n",
    "# Set up authentication\n",
    "client_id = '3f7574b3a297422986c8bc4d831550fa'\n",
    "client_secret = '66bffc847689407bbddce02c9db0b152'\n",
    "credentials = SpotifyClientCredentials(client_id=client_id, client_secret=client_secret)\n",
    "sp = spotipy.Spotify(client_credentials_manager=credentials)\n",
    "\n",
    "# Get playlist tracks\n",
    "playlist_id = 'https://open.spotify.com/playlist/6VS2rEneGDah7Lya2E5mCR?si=bd26bd0518ad43c9'\n",
    "results = sp.playlist_tracks(playlist_id)\n",
    "tracks = results['items']\n",
    "track_names = []\n",
    "\n",
    "# Storing audio features of all tracks\n",
    "audio_data = []\n",
    "for track in tracks:\n",
    "    track_names.append(track['track']['name'])\n",
    "    audio_data += sp.audio_features(track['track']['uri'])\n",
    "    \n",
    "audio_df = pd.DataFrame(audio_data)\n",
    "features = ['acousticness', 'danceability', 'energy', 'instrumentalness', 'liveness', \n",
    "            'loudness', 'speechiness', 'tempo', 'valence']\n",
    "feature_matrix = audio_df[features].values"
   ]
  },
  {
   "cell_type": "code",
   "execution_count": 59,
   "metadata": {},
   "outputs": [],
   "source": [
    "from sklearn.preprocessing import StandardScaler\n",
    "from sklearn.metrics.pairwise import cosine_similarity\n",
    "\n",
    "# Normalize features\n",
    "scaler = StandardScaler()\n",
    "normalized_features = scaler.fit_transform(feature_matrix)\n",
    "\n",
    "# Cosine Similarity Matrix\n",
    "similarity_matrix = cosine_similarity(normalized_features)\n"
   ]
  },
  {
   "cell_type": "code",
   "execution_count": 66,
   "metadata": {},
   "outputs": [
    {
     "name": "stdout",
     "output_type": "stream",
     "text": [
      "[{'name': 'LOVE. FEAT. ZACARI.', 'similarity_score': 0.874603028527618}, {'name': 'Locked out of Heaven', 'similarity_score': 0.8318851448692177}, {'name': 'Treasure', 'similarity_score': 0.8291542350124372}]\n"
     ]
    }
   ],
   "source": [
    "# Recommend Songs\n",
    "\n",
    "def recommend_song(song, songs, similarity_matrix, top_n=5):\n",
    "    # Find the index of the given song ID\n",
    "    song_idx = songs.index(song)\n",
    "    \n",
    "    # Get the similarity scores for this song\n",
    "    similarity_scores = list(enumerate(similarity_matrix[song_idx]))\n",
    "    \n",
    "    # Sort songs by similarity score (excluding the song itself)\n",
    "    sorted_scores = sorted(similarity_scores, key=lambda x: x[1], reverse=True)[1:]\n",
    "    \n",
    "    # Get the top N recommendations\n",
    "    top_recommendations = sorted_scores[:top_n]\n",
    "    \n",
    "    # Fetch the recommended song details\n",
    "    recommendations = []\n",
    "    for idx, score in top_recommendations:\n",
    "        recommendations.append({\n",
    "            'name': songs[idx],\n",
    "            'similarity_score': score\n",
    "        })\n",
    "    return recommendations\n",
    "\n",
    "recommendations = recommend_song('Sundress', track_names, similarity_matrix, 3)\n",
    "print(recommendations)    "
   ]
  }
 ],
 "metadata": {
  "kernelspec": {
   "display_name": "Python 3",
   "language": "python",
   "name": "python3"
  },
  "language_info": {
   "codemirror_mode": {
    "name": "ipython",
    "version": 3
   },
   "file_extension": ".py",
   "mimetype": "text/x-python",
   "name": "python",
   "nbconvert_exporter": "python",
   "pygments_lexer": "ipython3",
   "version": "3.7.6"
  }
 },
 "nbformat": 4,
 "nbformat_minor": 4
}
